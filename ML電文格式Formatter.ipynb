{
  "nbformat": 4,
  "nbformat_minor": 0,
  "metadata": {
    "colab": {
      "provenance": []
    },
    "kernelspec": {
      "name": "python3",
      "display_name": "Python 3"
    },
    "language_info": {
      "name": "python"
    }
  },
  "cells": [
    {
      "cell_type": "code",
      "source": [
        "import json"
      ],
      "metadata": {
        "id": "yn6c_0cDey-4"
      },
      "execution_count": null,
      "outputs": []
    },
    {
      "cell_type": "code",
      "source": [
        "# 替換 \\\"\n",
        "def replaceBackslash(string):\n",
        "  return string.replace('\\\"', '\"')"
      ],
      "metadata": {
        "id": "jXinDGdK_mOz"
      },
      "execution_count": null,
      "outputs": []
    },
    {
      "cell_type": "code",
      "source": [
        "# pipline 電文格式 format\n",
        "def formatPipline(string):\n",
        "  return string.replace('|>', '\\n|>').strip('\\n')"
      ],
      "metadata": {
        "id": "7LOAKk1DAQdF"
      },
      "execution_count": null,
      "outputs": []
    },
    {
      "cell_type": "code",
      "source": [
        "# 解 Base64\n",
        "import base64\n",
        "def decodeBase64(string):\n",
        "  return base64.b64decode(string)"
      ],
      "metadata": {
        "id": "Z0lv3UtPU19_"
      },
      "execution_count": null,
      "outputs": []
    },
    {
      "cell_type": "code",
      "source": [
        "# 去掉所有換行\n",
        "def toOneLine(string):\n",
        "  return string.replace('\\n', '')"
      ],
      "metadata": {
        "id": "JSrXJ5cQYoMF"
      },
      "execution_count": null,
      "outputs": []
    },
    {
      "cell_type": "code",
      "source": [
        "# \",\"就換行\n",
        "def formatComma(string):\n",
        "  return string.replace(',', ',\\n')"
      ],
      "metadata": {
        "id": "TGwkrjqyXGlO"
      },
      "execution_count": null,
      "outputs": []
    },
    {
      "cell_type": "code",
      "source": [
        "# pretty Json\n",
        "def printJson(string):\n",
        "  json_object = json.loads(string)\n",
        "  print(json.dumps(json_object, indent=2))"
      ],
      "metadata": {
        "id": "rW15E-u0ef-r"
      },
      "execution_count": null,
      "outputs": []
    },
    {
      "cell_type": "code",
      "source": [
        "# Gateway的body都是字串型態，移除前後雙引號\n",
        "def removeBodyStr(string):\n",
        "  body_str_idx = string.find('\"body\":')\n",
        "  # print(body_str_idx)\n",
        "  return string[:body_str_idx+7]+string[body_str_idx+8:-3]+string[-2:]"
      ],
      "metadata": {
        "id": "I0K5I6FVf8fA"
      },
      "execution_count": null,
      "outputs": []
    },
    {
      "cell_type": "code",
      "source": [
        "# format gateway格式\n",
        "def formatGW(string):\n",
        "  return formatPipline(replaceBackslash(removeBodyStr(string)))"
      ],
      "metadata": {
        "id": "_T3-v_VXkbBq"
      },
      "execution_count": null,
      "outputs": []
    },
    {
      "cell_type": "code",
      "execution_count": null,
      "metadata": {
        "id": "8W_xIC_K1zWa"
      },
      "outputs": [],
      "source": [
        "gwReqString='''\n",
        "'''"
      ]
    },
    {
      "cell_type": "code",
      "source": [
        "print(formatGW(gwReqString))"
      ],
      "metadata": {
        "id": "g5tq7FjT1zkP"
      },
      "execution_count": null,
      "outputs": []
    },
    {
      "cell_type": "code",
      "source": [
        "gwRespString='''\n",
        "'''"
      ],
      "metadata": {
        "id": "lnNWsFWM2AI4"
      },
      "execution_count": null,
      "outputs": []
    },
    {
      "cell_type": "code",
      "source": [
        "printJson(formatGW(gwRespString))"
      ],
      "metadata": {
        "id": "Wl_GzoekAGEL"
      },
      "execution_count": null,
      "outputs": []
    },
    {
      "cell_type": "code",
      "source": [
        "stringWithComma='''\n",
        "'''"
      ],
      "metadata": {
        "id": "ytdUrHnO-Oml"
      },
      "execution_count": null,
      "outputs": []
    },
    {
      "cell_type": "code",
      "source": [
        "print(formatComma(stringWithComma))"
      ],
      "metadata": {
        "id": "oo0tfEhDjsoL"
      },
      "execution_count": null,
      "outputs": []
    },
    {
      "cell_type": "code",
      "source": [
        "stringBase64 = '''\n",
        "'''"
      ],
      "metadata": {
        "id": "BfYgQXTLAOoV"
      },
      "execution_count": null,
      "outputs": []
    },
    {
      "cell_type": "code",
      "source": [
        "print(decodeBase64(stringBase64))"
      ],
      "metadata": {
        "id": "zQwuSdW0VC42"
      },
      "execution_count": null,
      "outputs": []
    },
    {
      "cell_type": "code",
      "source": [
        "stringToOneLine = '''\n",
        "'''"
      ],
      "metadata": {
        "id": "GoN-gS0_VMW-"
      },
      "execution_count": null,
      "outputs": []
    },
    {
      "cell_type": "code",
      "source": [
        "print(toOneLine(stringToOneLine))"
      ],
      "metadata": {
        "id": "zN1xojLAZBlt"
      },
      "execution_count": null,
      "outputs": []
    },
    {
      "cell_type": "code",
      "source": [],
      "metadata": {
        "id": "U_c2R7fKDjb9"
      },
      "execution_count": null,
      "outputs": []
    }
  ]
}